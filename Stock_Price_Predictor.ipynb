{
  "nbformat": 4,
  "nbformat_minor": 0,
  "metadata": {
    "colab": {
      "name": "Stock_Price_Predictor.ipynb",
      "provenance": [],
      "collapsed_sections": []
    },
    "kernelspec": {
      "name": "python3",
      "display_name": "Python 3"
    },
    "language_info": {
      "name": "python"
    }
  },
  "cells": [
    {
      "cell_type": "code",
      "metadata": {
        "id": "2eS8BUJ8-ctl"
      },
      "source": [
        "import math\n",
        "import pandas_datareader as web\n",
        "import numpy as np \n",
        "import pandas as pd\n",
        "from sklearn.preprocessing import MinMaxScaler\n",
        "from keras.models import Sequential\n",
        "from keras.layers import Dense, LSTM\n",
        "import matplotlib.pyplot as plt\n",
        "plt.style.use('fivethirtyeight')\n",
        "\n"
      ],
      "execution_count": null,
      "outputs": []
    },
    {
      "cell_type": "code",
      "metadata": {
        "colab": {
          "base_uri": "https://localhost:8080/"
        },
        "id": "BkQm4WMEPyJ6",
        "outputId": "26073649-d373-4dab-fa92-c7b4f8d72022"
      },
      "source": [
        "!pip install pandas_datareader"
      ],
      "execution_count": null,
      "outputs": [
        {
          "output_type": "stream",
          "text": [
            "Requirement already satisfied: pandas_datareader in /usr/local/lib/python3.7/dist-packages (0.9.0)\n",
            "Requirement already satisfied: requests>=2.19.0 in /usr/local/lib/python3.7/dist-packages (from pandas_datareader) (2.23.0)\n",
            "Requirement already satisfied: pandas>=0.23 in /usr/local/lib/python3.7/dist-packages (from pandas_datareader) (1.1.5)\n",
            "Requirement already satisfied: lxml in /usr/local/lib/python3.7/dist-packages (from pandas_datareader) (4.2.6)\n",
            "Requirement already satisfied: numpy>=1.15.4 in /usr/local/lib/python3.7/dist-packages (from pandas>=0.23->pandas_datareader) (1.19.5)\n",
            "Requirement already satisfied: pytz>=2017.2 in /usr/local/lib/python3.7/dist-packages (from pandas>=0.23->pandas_datareader) (2018.9)\n",
            "Requirement already satisfied: python-dateutil>=2.7.3 in /usr/local/lib/python3.7/dist-packages (from pandas>=0.23->pandas_datareader) (2.8.2)\n",
            "Requirement already satisfied: six>=1.5 in /usr/local/lib/python3.7/dist-packages (from python-dateutil>=2.7.3->pandas>=0.23->pandas_datareader) (1.15.0)\n",
            "Requirement already satisfied: urllib3!=1.25.0,!=1.25.1,<1.26,>=1.21.1 in /usr/local/lib/python3.7/dist-packages (from requests>=2.19.0->pandas_datareader) (1.24.3)\n",
            "Requirement already satisfied: chardet<4,>=3.0.2 in /usr/local/lib/python3.7/dist-packages (from requests>=2.19.0->pandas_datareader) (3.0.4)\n",
            "Requirement already satisfied: certifi>=2017.4.17 in /usr/local/lib/python3.7/dist-packages (from requests>=2.19.0->pandas_datareader) (2021.5.30)\n",
            "Requirement already satisfied: idna<3,>=2.5 in /usr/local/lib/python3.7/dist-packages (from requests>=2.19.0->pandas_datareader) (2.10)\n"
          ],
          "name": "stdout"
        }
      ]
    },
    {
      "cell_type": "code",
      "metadata": {
        "colab": {
          "base_uri": "https://localhost:8080/"
        },
        "id": "MKrUi2syQJ_K",
        "outputId": "2e1dc0ab-e8c5-484a-db33-97d5a59cbda6"
      },
      "source": [
        "!pip install yfinance"
      ],
      "execution_count": null,
      "outputs": [
        {
          "output_type": "stream",
          "text": [
            "Collecting yfinance\n",
            "  Downloading yfinance-0.1.63.tar.gz (26 kB)\n",
            "Requirement already satisfied: pandas>=0.24 in /usr/local/lib/python3.7/dist-packages (from yfinance) (1.1.5)\n",
            "Requirement already satisfied: numpy>=1.15 in /usr/local/lib/python3.7/dist-packages (from yfinance) (1.19.5)\n",
            "Requirement already satisfied: requests>=2.20 in /usr/local/lib/python3.7/dist-packages (from yfinance) (2.23.0)\n",
            "Requirement already satisfied: multitasking>=0.0.7 in /usr/local/lib/python3.7/dist-packages (from yfinance) (0.0.9)\n",
            "Collecting lxml>=4.5.1\n",
            "  Downloading lxml-4.6.3-cp37-cp37m-manylinux2014_x86_64.whl (6.3 MB)\n",
            "\u001b[K     |████████████████████████████████| 6.3 MB 6.3 MB/s \n",
            "\u001b[?25hRequirement already satisfied: pytz>=2017.2 in /usr/local/lib/python3.7/dist-packages (from pandas>=0.24->yfinance) (2018.9)\n",
            "Requirement already satisfied: python-dateutil>=2.7.3 in /usr/local/lib/python3.7/dist-packages (from pandas>=0.24->yfinance) (2.8.2)\n",
            "Requirement already satisfied: six>=1.5 in /usr/local/lib/python3.7/dist-packages (from python-dateutil>=2.7.3->pandas>=0.24->yfinance) (1.15.0)\n",
            "Requirement already satisfied: urllib3!=1.25.0,!=1.25.1,<1.26,>=1.21.1 in /usr/local/lib/python3.7/dist-packages (from requests>=2.20->yfinance) (1.24.3)\n",
            "Requirement already satisfied: chardet<4,>=3.0.2 in /usr/local/lib/python3.7/dist-packages (from requests>=2.20->yfinance) (3.0.4)\n",
            "Requirement already satisfied: certifi>=2017.4.17 in /usr/local/lib/python3.7/dist-packages (from requests>=2.20->yfinance) (2021.5.30)\n",
            "Requirement already satisfied: idna<3,>=2.5 in /usr/local/lib/python3.7/dist-packages (from requests>=2.20->yfinance) (2.10)\n",
            "Building wheels for collected packages: yfinance\n",
            "  Building wheel for yfinance (setup.py) ... \u001b[?25l\u001b[?25hdone\n",
            "  Created wheel for yfinance: filename=yfinance-0.1.63-py2.py3-none-any.whl size=23918 sha256=170ebb77cdd479538b93176549febf45bcd1259764cd89994267158f9aac5aed\n",
            "  Stored in directory: /root/.cache/pip/wheels/fe/87/8b/7ec24486e001d3926537f5f7801f57a74d181be25b11157983\n",
            "Successfully built yfinance\n",
            "Installing collected packages: lxml, yfinance\n",
            "  Attempting uninstall: lxml\n",
            "    Found existing installation: lxml 4.2.6\n",
            "    Uninstalling lxml-4.2.6:\n",
            "      Successfully uninstalled lxml-4.2.6\n",
            "Successfully installed lxml-4.6.3 yfinance-0.1.63\n"
          ],
          "name": "stdout"
        }
      ]
    },
    {
      "cell_type": "code",
      "metadata": {
        "colab": {
          "base_uri": "https://localhost:8080/",
          "height": 467
        },
        "id": "y_IAsFm-_k22",
        "outputId": "bb12fecd-0663-4d13-d944-bd69aff3d62b"
      },
      "source": [
        "# the data was pulled live using the 'yfinance' api\n",
        "from pandas_datareader import data as pdr\n",
        "import yfinance as yf\n",
        "\n",
        "yf.pdr_override()\n",
        "\n",
        "df = pdr.get_data_yahoo(\"GOLD\", start=\"2010-01-01\", end=\"2021-01-02\")\n",
        "df\n"
      ],
      "execution_count": null,
      "outputs": [
        {
          "output_type": "stream",
          "text": [
            "\r[*********************100%***********************]  1 of 1 completed\n"
          ],
          "name": "stdout"
        },
        {
          "output_type": "execute_result",
          "data": {
            "text/html": [
              "<div>\n",
              "<style scoped>\n",
              "    .dataframe tbody tr th:only-of-type {\n",
              "        vertical-align: middle;\n",
              "    }\n",
              "\n",
              "    .dataframe tbody tr th {\n",
              "        vertical-align: top;\n",
              "    }\n",
              "\n",
              "    .dataframe thead th {\n",
              "        text-align: right;\n",
              "    }\n",
              "</style>\n",
              "<table border=\"1\" class=\"dataframe\">\n",
              "  <thead>\n",
              "    <tr style=\"text-align: right;\">\n",
              "      <th></th>\n",
              "      <th>Open</th>\n",
              "      <th>High</th>\n",
              "      <th>Low</th>\n",
              "      <th>Close</th>\n",
              "      <th>Adj Close</th>\n",
              "      <th>Volume</th>\n",
              "    </tr>\n",
              "    <tr>\n",
              "      <th>Date</th>\n",
              "      <th></th>\n",
              "      <th></th>\n",
              "      <th></th>\n",
              "      <th></th>\n",
              "      <th></th>\n",
              "      <th></th>\n",
              "    </tr>\n",
              "  </thead>\n",
              "  <tbody>\n",
              "    <tr>\n",
              "      <th>2010-01-04</th>\n",
              "      <td>40.700001</td>\n",
              "      <td>41.180000</td>\n",
              "      <td>40.250000</td>\n",
              "      <td>40.389999</td>\n",
              "      <td>34.735146</td>\n",
              "      <td>14212200</td>\n",
              "    </tr>\n",
              "    <tr>\n",
              "      <th>2010-01-05</th>\n",
              "      <td>40.660000</td>\n",
              "      <td>41.099998</td>\n",
              "      <td>40.040001</td>\n",
              "      <td>40.889999</td>\n",
              "      <td>35.165131</td>\n",
              "      <td>13018600</td>\n",
              "    </tr>\n",
              "    <tr>\n",
              "      <th>2010-01-06</th>\n",
              "      <td>41.320000</td>\n",
              "      <td>42.340000</td>\n",
              "      <td>41.139999</td>\n",
              "      <td>41.759998</td>\n",
              "      <td>35.913334</td>\n",
              "      <td>12329200</td>\n",
              "    </tr>\n",
              "    <tr>\n",
              "      <th>2010-01-07</th>\n",
              "      <td>41.669998</td>\n",
              "      <td>41.669998</td>\n",
              "      <td>40.889999</td>\n",
              "      <td>41.169998</td>\n",
              "      <td>35.405933</td>\n",
              "      <td>9291000</td>\n",
              "    </tr>\n",
              "    <tr>\n",
              "      <th>2010-01-08</th>\n",
              "      <td>41.599998</td>\n",
              "      <td>41.669998</td>\n",
              "      <td>40.700001</td>\n",
              "      <td>41.430000</td>\n",
              "      <td>35.629536</td>\n",
              "      <td>9198600</td>\n",
              "    </tr>\n",
              "    <tr>\n",
              "      <th>...</th>\n",
              "      <td>...</td>\n",
              "      <td>...</td>\n",
              "      <td>...</td>\n",
              "      <td>...</td>\n",
              "      <td>...</td>\n",
              "      <td>...</td>\n",
              "    </tr>\n",
              "    <tr>\n",
              "      <th>2020-12-24</th>\n",
              "      <td>22.799999</td>\n",
              "      <td>23.040001</td>\n",
              "      <td>22.730000</td>\n",
              "      <td>22.900000</td>\n",
              "      <td>22.580746</td>\n",
              "      <td>4920100</td>\n",
              "    </tr>\n",
              "    <tr>\n",
              "      <th>2020-12-28</th>\n",
              "      <td>23.520000</td>\n",
              "      <td>23.540001</td>\n",
              "      <td>22.799999</td>\n",
              "      <td>22.840000</td>\n",
              "      <td>22.521585</td>\n",
              "      <td>15946700</td>\n",
              "    </tr>\n",
              "    <tr>\n",
              "      <th>2020-12-29</th>\n",
              "      <td>22.959999</td>\n",
              "      <td>23.280001</td>\n",
              "      <td>22.750000</td>\n",
              "      <td>22.910000</td>\n",
              "      <td>22.590607</td>\n",
              "      <td>14663900</td>\n",
              "    </tr>\n",
              "    <tr>\n",
              "      <th>2020-12-30</th>\n",
              "      <td>22.969999</td>\n",
              "      <td>23.280001</td>\n",
              "      <td>22.850000</td>\n",
              "      <td>23.240000</td>\n",
              "      <td>22.916006</td>\n",
              "      <td>16046500</td>\n",
              "    </tr>\n",
              "    <tr>\n",
              "      <th>2020-12-31</th>\n",
              "      <td>23.250000</td>\n",
              "      <td>23.270000</td>\n",
              "      <td>22.700001</td>\n",
              "      <td>22.780001</td>\n",
              "      <td>22.462421</td>\n",
              "      <td>18088000</td>\n",
              "    </tr>\n",
              "  </tbody>\n",
              "</table>\n",
              "<p>2769 rows × 6 columns</p>\n",
              "</div>"
            ],
            "text/plain": [
              "                 Open       High        Low      Close  Adj Close    Volume\n",
              "Date                                                                       \n",
              "2010-01-04  40.700001  41.180000  40.250000  40.389999  34.735146  14212200\n",
              "2010-01-05  40.660000  41.099998  40.040001  40.889999  35.165131  13018600\n",
              "2010-01-06  41.320000  42.340000  41.139999  41.759998  35.913334  12329200\n",
              "2010-01-07  41.669998  41.669998  40.889999  41.169998  35.405933   9291000\n",
              "2010-01-08  41.599998  41.669998  40.700001  41.430000  35.629536   9198600\n",
              "...               ...        ...        ...        ...        ...       ...\n",
              "2020-12-24  22.799999  23.040001  22.730000  22.900000  22.580746   4920100\n",
              "2020-12-28  23.520000  23.540001  22.799999  22.840000  22.521585  15946700\n",
              "2020-12-29  22.959999  23.280001  22.750000  22.910000  22.590607  14663900\n",
              "2020-12-30  22.969999  23.280001  22.850000  23.240000  22.916006  16046500\n",
              "2020-12-31  23.250000  23.270000  22.700001  22.780001  22.462421  18088000\n",
              "\n",
              "[2769 rows x 6 columns]"
            ]
          },
          "metadata": {},
          "execution_count": 61
        }
      ]
    },
    {
      "cell_type": "code",
      "metadata": {
        "colab": {
          "base_uri": "https://localhost:8080/"
        },
        "id": "c7xeeZkRGYfa",
        "outputId": "474f96e5-a4de-41d2-9c0a-6b1996517511"
      },
      "source": [
        "df.shape\n"
      ],
      "execution_count": null,
      "outputs": [
        {
          "output_type": "execute_result",
          "data": {
            "text/plain": [
              "(2769, 6)"
            ]
          },
          "metadata": {},
          "execution_count": 62
        }
      ]
    },
    {
      "cell_type": "code",
      "metadata": {
        "colab": {
          "base_uri": "https://localhost:8080/",
          "height": 575
        },
        "id": "ORuGk1VORstg",
        "outputId": "3bf21136-4c45-4871-8ca3-620a103a1b80"
      },
      "source": [
        "plt.figure(figsize=(16,8))\n",
        "plt.title('Close Price History')\n",
        "plt.plot(df['Close'])\n",
        "plt.xlabel('Date', fontsize=18)\n",
        "plt.ylabel('Close Price USD ($)', fontsize=18)\n",
        "plt.show"
      ],
      "execution_count": null,
      "outputs": [
        {
          "output_type": "execute_result",
          "data": {
            "text/plain": [
              "<function matplotlib.pyplot.show>"
            ]
          },
          "metadata": {},
          "execution_count": 63
        },
        {
          "output_type": "display_data",
          "data": {
            "image/png": "[encoded data removed]",
            "text/plain": [
              "<Figure size 1152x576 with 1 Axes>"
            ]
          },
          "metadata": {}
        }
      ]
    },
    {
      "cell_type": "code",
      "metadata": {
        "colab": {
          "base_uri": "https://localhost:8080/"
        },
        "id": "MfHQF8NHTfLe",
        "outputId": "48b17d01-3b83-4f39-baa2-1f7ada93140c"
      },
      "source": [
        "data = df.filter(['Close'])\n",
        "dataset = data.values\n",
        "training_data_len = (len(dataset) * .8)\n",
        "training_data_len"
      ],
      "execution_count": null,
      "outputs": [
        {
          "output_type": "execute_result",
          "data": {
            "text/plain": [
              "2215.2000000000003"
            ]
          },
          "metadata": {},
          "execution_count": 64
        }
      ]
    },
    {
      "cell_type": "code",
      "metadata": {
        "colab": {
          "base_uri": "https://localhost:8080/"
        },
        "id": "4V-snEfDUCNQ",
        "outputId": "5fcbd174-16dd-44e7-a193-b5cd142e5d13"
      },
      "source": [
        "scaler = MinMaxScaler(feature_range=(0,1))\n",
        "scaled_data = scaler.fit_transform(dataset)\n",
        "scaled_data"
      ],
      "execution_count": null,
      "outputs": [
        {
          "output_type": "execute_result",
          "data": {
            "text/plain": [
              "array([[0.69329842],\n",
              "       [0.70336081],\n",
              "       [0.72086934],\n",
              "       ...,\n",
              "       [0.3415174 ],\n",
              "       [0.34815857],\n",
              "       [0.33890119]])"
            ]
          },
          "metadata": {},
          "execution_count": 65
        }
      ]
    },
    {
      "cell_type": "code",
      "metadata": {
        "id": "aBKpMBMaZhqX"
      },
      "source": [
        "!pip install scikit-mlm "
      ],
      "execution_count": null,
      "outputs": []
    },
    {
      "cell_type": "code",
      "metadata": {
        "colab": {
          "base_uri": "https://localhost:8080/"
        },
        "id": "szRXsrJqUhFs",
        "outputId": "caa7a644-2a29-4d6a-ac6f-3ebd2e2f998f"
      },
      "source": [
        "train_data = scaled_data[0:int(training_data_len) , :]\n",
        "x_train = []\n",
        "y_train = []\n",
        "\n",
        "for i in range(60, len(train_data)):\n",
        "  x_train.append(train_data[i-60:i, 0])\n",
        "  y_train.append(train_data[i, 0])\n",
        "  if i<=61:\n",
        "    print(x_train)\n",
        "    print(y_train)\n",
        "    print()"
      ],
      "execution_count": null,
      "outputs": [
        {
          "output_type": "stream",
          "text": [
            "[array([0.69329842, 0.70336081, 0.72086934, 0.70899572, 0.71422821,\n",
            "       0.71845439, 0.69148719, 0.69953713, 0.69490844, 0.67941236,\n",
            "       0.67860735, 0.64258399, 0.61541557, 0.61501307, 0.60575569,\n",
            "       0.60635941, 0.59971827, 0.60313945, 0.58120344, 0.61501307,\n",
            "       0.60917686, 0.60313945, 0.56470113, 0.60152951, 0.57617225,\n",
            "       0.59830947, 0.59851076, 0.62648418, 0.61903804, 0.63393033,\n",
            "       0.64238277, 0.66995369, 0.67277114, 0.65264637, 0.63050915,\n",
            "       0.61923925, 0.63393033, 0.6383578 , 0.65425639, 0.67478367,\n",
            "       0.68826723, 0.6814248 , 0.69068218, 0.67900985, 0.6761924 ,\n",
            "       0.66029381, 0.66894747, 0.66653251, 0.66552621, 0.68726101,\n",
            "       0.68866973, 0.6810223 , 0.67377737, 0.67357615, 0.66170254,\n",
            "       0.62990543, 0.62044677, 0.63332661, 0.64137655, 0.64037025])]\n",
            "[0.6520426531740977]\n",
            "\n",
            "[array([0.69329842, 0.70336081, 0.72086934, 0.70899572, 0.71422821,\n",
            "       0.71845439, 0.69148719, 0.69953713, 0.69490844, 0.67941236,\n",
            "       0.67860735, 0.64258399, 0.61541557, 0.61501307, 0.60575569,\n",
            "       0.60635941, 0.59971827, 0.60313945, 0.58120344, 0.61501307,\n",
            "       0.60917686, 0.60313945, 0.56470113, 0.60152951, 0.57617225,\n",
            "       0.59830947, 0.59851076, 0.62648418, 0.61903804, 0.63393033,\n",
            "       0.64238277, 0.66995369, 0.67277114, 0.65264637, 0.63050915,\n",
            "       0.61923925, 0.63393033, 0.6383578 , 0.65425639, 0.67478367,\n",
            "       0.68826723, 0.6814248 , 0.69068218, 0.67900985, 0.6761924 ,\n",
            "       0.66029381, 0.66894747, 0.66653251, 0.66552621, 0.68726101,\n",
            "       0.68866973, 0.6810223 , 0.67377737, 0.67357615, 0.66170254,\n",
            "       0.62990543, 0.62044677, 0.63332661, 0.64137655, 0.64037025]), array([0.70336081, 0.72086934, 0.70899572, 0.71422821, 0.71845439,\n",
            "       0.69148719, 0.69953713, 0.69490844, 0.67941236, 0.67860735,\n",
            "       0.64258399, 0.61541557, 0.61501307, 0.60575569, 0.60635941,\n",
            "       0.59971827, 0.60313945, 0.58120344, 0.61501307, 0.60917686,\n",
            "       0.60313945, 0.56470113, 0.60152951, 0.57617225, 0.59830947,\n",
            "       0.59851076, 0.62648418, 0.61903804, 0.63393033, 0.64238277,\n",
            "       0.66995369, 0.67277114, 0.65264637, 0.63050915, 0.61923925,\n",
            "       0.63393033, 0.6383578 , 0.65425639, 0.67478367, 0.68826723,\n",
            "       0.6814248 , 0.69068218, 0.67900985, 0.6761924 , 0.66029381,\n",
            "       0.66894747, 0.66653251, 0.66552621, 0.68726101, 0.68866973,\n",
            "       0.6810223 , 0.67377737, 0.67357615, 0.66170254, 0.62990543,\n",
            "       0.62044677, 0.63332661, 0.64137655, 0.64037025, 0.65204265])]\n",
            "[0.6520426531740977, 0.6743811636947191]\n",
            "\n"
          ],
          "name": "stdout"
        }
      ]
    },
    {
      "cell_type": "code",
      "metadata": {
        "colab": {
          "base_uri": "https://localhost:8080/"
        },
        "id": "emtkB0A_a73l",
        "outputId": "d383130b-0eb2-4632-810e-05e77f3675b2"
      },
      "source": [
        "x_train, y_train = np.array(x_train), np.array(y_train)\n",
        "x_train.shape"
      ],
      "execution_count": null,
      "outputs": [
        {
          "output_type": "execute_result",
          "data": {
            "text/plain": [
              "(2155, 60)"
            ]
          },
          "metadata": {},
          "execution_count": 67
        }
      ]
    },
    {
      "cell_type": "code",
      "metadata": {
        "colab": {
          "base_uri": "https://localhost:8080/"
        },
        "id": "zmKMJ7Vc3pLI",
        "outputId": "b59f2f4d-f33e-4c2f-e6da-4b2fc7a17139"
      },
      "source": [
        "x_train = np.reshape(x_train, (x_train.shape[0], x_train.shape[1],1))\n",
        "x_train.shape"
      ],
      "execution_count": null,
      "outputs": [
        {
          "output_type": "execute_result",
          "data": {
            "text/plain": [
              "(2155, 60, 1)"
            ]
          },
          "metadata": {},
          "execution_count": 68
        }
      ]
    },
    {
      "cell_type": "code",
      "metadata": {
        "id": "MwqpvVOY445Y"
      },
      "source": [
        "# Building the LSTM model\n",
        "model = Sequential()\n",
        "model.add(LSTM(50, return_sequences=True, input_shape= (x_train.shape[1], 1)))\n",
        "model.add(LSTM(50, return_sequences= False))\n",
        "model.add(Dense(25))\n",
        "model.add(Dense(1))"
      ],
      "execution_count": null,
      "outputs": []
    },
    {
      "cell_type": "code",
      "metadata": {
        "id": "ryoDLfcz6sa8"
      },
      "source": [
        "model.compile(optimizer='adam', loss='mean_squared_error')"
      ],
      "execution_count": null,
      "outputs": []
    },
    {
      "cell_type": "code",
      "metadata": {
        "colab": {
          "base_uri": "https://localhost:8080/"
        },
        "id": "QgNM2fiR69FH",
        "outputId": "2ceb417e-ce6a-458d-9e36-ff9f0cecec89"
      },
      "source": [
        "model.fit(x_train, y_train, batch_size=1, epochs=1)"
      ],
      "execution_count": null,
      "outputs": [
        {
          "output_type": "stream",
          "text": [
            "2155/2155 [==============================] - 65s 29ms/step - loss: 0.0029\n"
          ],
          "name": "stdout"
        },
        {
          "output_type": "execute_result",
          "data": {
            "text/plain": [
              "<keras.callbacks.History at 0x7f9a508db7d0>"
            ]
          },
          "metadata": {},
          "execution_count": 71
        }
      ]
    },
    {
      "cell_type": "code",
      "metadata": {
        "id": "FqWp9Du97WMx"
      },
      "source": [
        "test_data = scaled_data[int(training_data_len) - 60: , :]\n",
        "x_test = []\n",
        "y_test = dataset[int(training_data_len):, :]\n",
        "for i in range(60, len(test_data)):\n",
        "  x_test.append(test_data[i-60:i, 0])\n"
      ],
      "execution_count": null,
      "outputs": []
    },
    {
      "cell_type": "code",
      "metadata": {
        "id": "WB1mS3JU8KqM"
      },
      "source": [
        "x_test = np.array(x_test)\n"
      ],
      "execution_count": null,
      "outputs": []
    },
    {
      "cell_type": "code",
      "metadata": {
        "id": "hAxi_QND8ig2"
      },
      "source": [
        "x_test = np.reshape(x_test, (x_test.shape[0], x_test.shape[1], 1 ))"
      ],
      "execution_count": null,
      "outputs": []
    },
    {
      "cell_type": "code",
      "metadata": {
        "id": "S1Lxb1D_897N"
      },
      "source": [
        "predictions = model.predict(x_test)\n",
        "predictions = scaler.inverse_transform(predictions)"
      ],
      "execution_count": null,
      "outputs": []
    },
    {
      "cell_type": "code",
      "metadata": {
        "colab": {
          "base_uri": "https://localhost:8080/"
        },
        "id": "Q2uc_dKw9Z3R",
        "outputId": "7496e6f6-ae18-43ae-82d5-41e50c860a0e"
      },
      "source": [
        "rmse = np.sqrt( np.mean( predictions - y_test )**2 )\n",
        "rmse"
      ],
      "execution_count": null,
      "outputs": [
        {
          "output_type": "execute_result",
          "data": {
            "text/plain": [
              "0.8433919348871665"
            ]
          },
          "metadata": {},
          "execution_count": 81
        }
      ]
    },
    {
      "cell_type": "code",
      "metadata": {
        "colab": {
          "base_uri": "https://localhost:8080/",
          "height": 677
        },
        "id": "m_c7AmmZ6TuX",
        "outputId": "47c3eb11-e4fd-4320-9555-e13a31f5c2b1"
      },
      "source": [
        "train = data[:int(training_data_len)]\n",
        "valid = data[int(training_data_len):]\n",
        "valid['Predictions'] = predictions\n",
        "\n",
        "# Visualizing the data\n",
        "plt.figure(figsize=(16,8))\n",
        "plt.title('Model')\n",
        "plt.xlabel('Date', fontsize=18)\n",
        "plt.ylabel('Close Price USD ($)', fontsize=18)\n",
        "plt.plot(train['Close'])\n",
        "plt.plot(valid[['Close', 'Predictions']])\n",
        "plt.legend(['Train', 'Val', 'Predictions'], loc='lower right')\n",
        "plt.show"
      ],
      "execution_count": null,
      "outputs": [
        {
          "output_type": "stream",
          "text": [
            "/usr/local/lib/python3.7/dist-packages/ipykernel_launcher.py:3: SettingWithCopyWarning: \n",
            "A value is trying to be set on a copy of a slice from a DataFrame.\n",
            "Try using .loc[row_indexer,col_indexer] = value instead\n",
            "\n",
            "See the caveats in the documentation: https://pandas.pydata.org/pandas-docs/stable/user_guide/indexing.html#returning-a-view-versus-a-copy\n",
            "  This is separate from the ipykernel package so we can avoid doing imports until\n"
          ],
          "name": "stderr"
        },
        {
          "output_type": "execute_result",
          "data": {
            "text/plain": [
              "<function matplotlib.pyplot.show>"
            ]
          },
          "metadata": {},
          "execution_count": 82
        },
        {
          "output_type": "display_data",
          "data": {
            "image/png": "[encoded data removed]",
            "text/plain": [
              "<Figure size 1152x576 with 1 Axes>"
            ]
          },
          "metadata": {}
        }
      ]
    },
    {
      "cell_type": "code",
      "metadata": {
        "colab": {
          "base_uri": "https://localhost:8080/",
          "height": 450
        },
        "id": "qXGjLob1MqFV",
        "outputId": "67630726-c59c-4ce1-f7c5-4d4958d0f847"
      },
      "source": [
        "valid"
      ],
      "execution_count": null,
      "outputs": [
        {
          "output_type": "execute_result",
          "data": {
            "text/html": [
              "<div>\n",
              "<style scoped>\n",
              "    .dataframe tbody tr th:only-of-type {\n",
              "        vertical-align: middle;\n",
              "    }\n",
              "\n",
              "    .dataframe tbody tr th {\n",
              "        vertical-align: top;\n",
              "    }\n",
              "\n",
              "    .dataframe thead th {\n",
              "        text-align: right;\n",
              "    }\n",
              "</style>\n",
              "<table border=\"1\" class=\"dataframe\">\n",
              "  <thead>\n",
              "    <tr style=\"text-align: right;\">\n",
              "      <th></th>\n",
              "      <th>Close</th>\n",
              "      <th>Predictions</th>\n",
              "    </tr>\n",
              "    <tr>\n",
              "      <th>Date</th>\n",
              "      <th></th>\n",
              "      <th></th>\n",
              "    </tr>\n",
              "  </thead>\n",
              "  <tbody>\n",
              "    <tr>\n",
              "      <th>2019-04-29</th>\n",
              "      <td>12.660000</td>\n",
              "      <td>14.082788</td>\n",
              "    </tr>\n",
              "    <tr>\n",
              "      <th>2019-04-30</th>\n",
              "      <td>12.720000</td>\n",
              "      <td>14.017940</td>\n",
              "    </tr>\n",
              "    <tr>\n",
              "      <th>2019-05-01</th>\n",
              "      <td>12.590000</td>\n",
              "      <td>13.959660</td>\n",
              "    </tr>\n",
              "    <tr>\n",
              "      <th>2019-05-02</th>\n",
              "      <td>12.510000</td>\n",
              "      <td>13.896970</td>\n",
              "    </tr>\n",
              "    <tr>\n",
              "      <th>2019-05-03</th>\n",
              "      <td>12.590000</td>\n",
              "      <td>13.829753</td>\n",
              "    </tr>\n",
              "    <tr>\n",
              "      <th>...</th>\n",
              "      <td>...</td>\n",
              "      <td>...</td>\n",
              "    </tr>\n",
              "    <tr>\n",
              "      <th>2021-08-17</th>\n",
              "      <td>19.969999</td>\n",
              "      <td>21.669523</td>\n",
              "    </tr>\n",
              "    <tr>\n",
              "      <th>2021-08-18</th>\n",
              "      <td>19.459999</td>\n",
              "      <td>21.561604</td>\n",
              "    </tr>\n",
              "    <tr>\n",
              "      <th>2021-08-19</th>\n",
              "      <td>19.129999</td>\n",
              "      <td>21.412395</td>\n",
              "    </tr>\n",
              "    <tr>\n",
              "      <th>2021-08-20</th>\n",
              "      <td>19.230000</td>\n",
              "      <td>21.219349</td>\n",
              "    </tr>\n",
              "    <tr>\n",
              "      <th>2021-08-23</th>\n",
              "      <td>20.150000</td>\n",
              "      <td>21.036615</td>\n",
              "    </tr>\n",
              "  </tbody>\n",
              "</table>\n",
              "<p>586 rows × 2 columns</p>\n",
              "</div>"
            ],
            "text/plain": [
              "                Close  Predictions\n",
              "Date                              \n",
              "2019-04-29  12.660000    14.082788\n",
              "2019-04-30  12.720000    14.017940\n",
              "2019-05-01  12.590000    13.959660\n",
              "2019-05-02  12.510000    13.896970\n",
              "2019-05-03  12.590000    13.829753\n",
              "...               ...          ...\n",
              "2021-08-17  19.969999    21.669523\n",
              "2021-08-18  19.459999    21.561604\n",
              "2021-08-19  19.129999    21.412395\n",
              "2021-08-20  19.230000    21.219349\n",
              "2021-08-23  20.150000    21.036615\n",
              "\n",
              "[586 rows x 2 columns]"
            ]
          },
          "metadata": {},
          "execution_count": 60
        }
      ]
    },
    {
      "cell_type": "code",
      "metadata": {
        "colab": {
          "base_uri": "https://localhost:8080/"
        },
        "id": "elCtEnpfNBMQ",
        "outputId": "d90f8598-ff98-436b-9047-108bb8c3d6f9"
      },
      "source": [
        "# Predicting a value for a future date\n",
        "yf.pdr_override()\n",
        "\n",
        "apple_quote = pdr.get_data_yahoo(\"TSLA\", start=\"2012-01-01\", end=\"2019-12-18\")\n",
        "new_df = apple_quote.filter(['Close'])\n",
        "last_60_days = new_df[-60:].values\n",
        "last_60_days_scaled = scaler.transform(last_60_days)\n",
        "X_test = []\n",
        "X_test.append(last_60_days_scaled)\n",
        "X_test = np.array(X_test)\n",
        "X_test = np.reshape(X_test, (X_test.shape[0], X_test.shape[1], 1 ))\n",
        "pred_price = model.predict(X_test)\n",
        "pred_price = scaler.inverse_transform(pred_price)\n",
        "print(pred_price)"
      ],
      "execution_count": null,
      "outputs": [
        {
          "output_type": "stream",
          "text": [
            "\r[*********************100%***********************]  1 of 1 completed\n",
            "[[73.23489]]\n"
          ],
          "name": "stdout"
        }
      ]
    },
    {
      "cell_type": "code",
      "metadata": {
        "colab": {
          "base_uri": "https://localhost:8080/"
        },
        "id": "r4JRFBz9Qy3E",
        "outputId": "7db076fd-cb0a-45d3-d7aa-176525279cd6"
      },
      "source": [
        "yf.pdr_override()\n",
        "\n",
        "apple_quote2 = pdr.get_data_yahoo(\"TSLA\", start=\"2019-12-17\", end=\"2019-12-20\")\n",
        "print(apple_quote2['Close'])"
      ],
      "execution_count": null,
      "outputs": [
        {
          "output_type": "stream",
          "text": [
            "\r[*********************100%***********************]  1 of 1 completed\n",
            "Date\n",
            "2019-12-17    75.797997\n",
            "2019-12-18    78.629997\n",
            "2019-12-19    80.807999\n",
            "Name: Close, dtype: float64\n"
          ],
          "name": "stdout"
        }
      ]
    },
    {
      "cell_type": "code",
      "metadata": {
        "id": "X6dWnGQVXpVo"
      },
      "source": [
        "rmse = np.sqrt( np.mean( pred_price - y_test )**2 )\n",
        "\n",
        "\n",
        "train = data[:int(training_data_len)]\n",
        "valid = data[int(training_data_len):]\n",
        "valid['Predictions'] = predictions\n",
        "\n",
        "\n",
        "# Visualizing the data\n",
        "plt.figure(figsize=(16,8))\n",
        "plt.title('Model')\n",
        "plt.xlabel('Date', fontsize=18)\n",
        "plt.ylabel('Close Price USD ($)', fontsize=18)\n",
        "plt.plot(train['Close'])\n",
        "plt.plot(valid[['Close', 'Predictions']])\n",
        "plt.legend(['Train', 'Val', 'Predictions'], loc='lower right')\n",
        "plt.show"
      ],
      "execution_count": null,
      "outputs": []
    }
  ]
}